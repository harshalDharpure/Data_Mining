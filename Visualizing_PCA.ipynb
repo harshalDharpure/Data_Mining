{
  "nbformat": 4,
  "nbformat_minor": 0,
  "metadata": {
    "colab": {
      "name": "Visualizing_PCA.ipynb",
      "provenance": [],
      "collapsed_sections": []
    },
    "kernelspec": {
      "name": "python3",
      "display_name": "Python 3"
    },
    "language_info": {
      "name": "python"
    }
  },
  "cells": [
    {
      "cell_type": "code",
      "metadata": {
        "id": "JYe6kX0izba6"
      },
      "source": [
        "## Data Mining Part 1"
      ],
      "execution_count": null,
      "outputs": []
    },
    {
      "cell_type": "markdown",
      "metadata": {
        "id": "qTxtNg7ozgzi"
      },
      "source": [
        "** Implementing and Visualisation PCA**"
      ]
    },
    {
      "cell_type": "markdown",
      "metadata": {
        "id": "8LWPu5OEY_uq"
      },
      "source": [
        "**PCA** \n",
        "\n",
        "Principal component analysis is a method that uses simple matrix operations from linear algebra and statistics to calculate a projection of the original data into the same number or fewer dimensions."
      ]
    },
    {
      "cell_type": "code",
      "metadata": {
        "id": "n5RKb592Ypg5"
      },
      "source": [
        "import pandas as pd\n",
        "import numpy as np\n",
        "import seaborn as sns"
      ],
      "execution_count": 11,
      "outputs": []
    },
    {
      "cell_type": "code",
      "metadata": {
        "id": "DkO1s_ITZjL3"
      },
      "source": [
        "data=pd.read_csv('iris.csv')"
      ],
      "execution_count": 12,
      "outputs": []
    },
    {
      "cell_type": "code",
      "metadata": {
        "colab": {
          "base_uri": "https://localhost:8080/",
          "height": 205
        },
        "id": "ZhWpb65IZnQt",
        "outputId": "795be55f-df05-4ec2-ced3-4271b92f898c"
      },
      "source": [
        "data.head()"
      ],
      "execution_count": 13,
      "outputs": [
        {
          "output_type": "execute_result",
          "data": {
            "text/html": [
              "<div>\n",
              "<style scoped>\n",
              "    .dataframe tbody tr th:only-of-type {\n",
              "        vertical-align: middle;\n",
              "    }\n",
              "\n",
              "    .dataframe tbody tr th {\n",
              "        vertical-align: top;\n",
              "    }\n",
              "\n",
              "    .dataframe thead th {\n",
              "        text-align: right;\n",
              "    }\n",
              "</style>\n",
              "<table border=\"1\" class=\"dataframe\">\n",
              "  <thead>\n",
              "    <tr style=\"text-align: right;\">\n",
              "      <th></th>\n",
              "      <th>Id</th>\n",
              "      <th>SepalLengthCm</th>\n",
              "      <th>SepalWidthCm</th>\n",
              "      <th>PetalLengthCm</th>\n",
              "      <th>PetalWidthCm</th>\n",
              "      <th>Species</th>\n",
              "    </tr>\n",
              "  </thead>\n",
              "  <tbody>\n",
              "    <tr>\n",
              "      <th>0</th>\n",
              "      <td>1</td>\n",
              "      <td>5.1</td>\n",
              "      <td>3.5</td>\n",
              "      <td>1.4</td>\n",
              "      <td>0.2</td>\n",
              "      <td>Iris-setosa</td>\n",
              "    </tr>\n",
              "    <tr>\n",
              "      <th>1</th>\n",
              "      <td>2</td>\n",
              "      <td>4.9</td>\n",
              "      <td>3.0</td>\n",
              "      <td>1.4</td>\n",
              "      <td>0.2</td>\n",
              "      <td>Iris-setosa</td>\n",
              "    </tr>\n",
              "    <tr>\n",
              "      <th>2</th>\n",
              "      <td>3</td>\n",
              "      <td>4.7</td>\n",
              "      <td>3.2</td>\n",
              "      <td>1.3</td>\n",
              "      <td>0.2</td>\n",
              "      <td>Iris-setosa</td>\n",
              "    </tr>\n",
              "    <tr>\n",
              "      <th>3</th>\n",
              "      <td>4</td>\n",
              "      <td>4.6</td>\n",
              "      <td>3.1</td>\n",
              "      <td>1.5</td>\n",
              "      <td>0.2</td>\n",
              "      <td>Iris-setosa</td>\n",
              "    </tr>\n",
              "    <tr>\n",
              "      <th>4</th>\n",
              "      <td>5</td>\n",
              "      <td>5.0</td>\n",
              "      <td>3.6</td>\n",
              "      <td>1.4</td>\n",
              "      <td>0.2</td>\n",
              "      <td>Iris-setosa</td>\n",
              "    </tr>\n",
              "  </tbody>\n",
              "</table>\n",
              "</div>"
            ],
            "text/plain": [
              "   Id  SepalLengthCm  SepalWidthCm  PetalLengthCm  PetalWidthCm      Species\n",
              "0   1            5.1           3.5            1.4           0.2  Iris-setosa\n",
              "1   2            4.9           3.0            1.4           0.2  Iris-setosa\n",
              "2   3            4.7           3.2            1.3           0.2  Iris-setosa\n",
              "3   4            4.6           3.1            1.5           0.2  Iris-setosa\n",
              "4   5            5.0           3.6            1.4           0.2  Iris-setosa"
            ]
          },
          "metadata": {},
          "execution_count": 13
        }
      ]
    },
    {
      "cell_type": "code",
      "metadata": {
        "id": "R1hy1eMhaKXy"
      },
      "source": [
        "data=data.drop('Id',axis=1)"
      ],
      "execution_count": 14,
      "outputs": []
    },
    {
      "cell_type": "code",
      "metadata": {
        "colab": {
          "base_uri": "https://localhost:8080/"
        },
        "id": "a-zqDkAaaShL",
        "outputId": "404f665e-ac7d-44c5-e964-728360947a99"
      },
      "source": [
        "#splitting dependant and independant variable\n",
        "x=data.iloc[:,:-1]\n",
        "y=data['Species']\n",
        "print('shape is ',x.shape)\n",
        "print('shape is ',y.shape)"
      ],
      "execution_count": 15,
      "outputs": [
        {
          "output_type": "stream",
          "name": "stdout",
          "text": [
            "shape is  (150, 4)\n",
            "shape is  (150,)\n"
          ]
        }
      ]
    },
    {
      "cell_type": "code",
      "metadata": {
        "colab": {
          "base_uri": "https://localhost:8080/"
        },
        "id": "xrN2sAT1avW5",
        "outputId": "d89a9c6a-2681-4875-99df-695cdf03f583"
      },
      "source": [
        "#spliting the dataset into training and testing\n",
        "\n",
        "from sklearn.model_selection import train_test_split\n",
        "x_train,x_test,y_train,y_test=train_test_split(x,y,test_size=0.2,random_state=0)\n",
        "print(\"shape of x_training\",x_train.shape)\n",
        "print(\"shape of x_test is \",x_test.shape)\n",
        "print(\"shape of y_training\",y_train.shape)\n",
        "print(\"shape of y_test is \",y_test.shape)"
      ],
      "execution_count": 16,
      "outputs": [
        {
          "output_type": "stream",
          "name": "stdout",
          "text": [
            "shape of x_training (120, 4)\n",
            "shape of x_test is  (30, 4)\n",
            "shape of y_training (120,)\n",
            "shape of y_test is  (30,)\n"
          ]
        }
      ]
    },
    {
      "cell_type": "code",
      "metadata": {
        "id": "u_YCuysEb1sg"
      },
      "source": [
        ""
      ],
      "execution_count": null,
      "outputs": []
    },
    {
      "cell_type": "markdown",
      "metadata": {
        "id": "evB7IFBpb7z1"
      },
      "source": [
        "**Standardization**\n",
        "\n",
        "Standardization makes the values of each feature in the data have zero-mean (when subtracting the mean in the numerator) and unit-variance. This method is widely used for normalization in many machine learning algorithms."
      ]
    },
    {
      "cell_type": "code",
      "metadata": {
        "id": "tlEG-nxycEty"
      },
      "source": [
        "from sklearn.preprocessing import StandardScaler\n",
        "\n",
        "sc=StandardScaler()\n",
        "x_train_sc = sc.fit_transform(x_train)\n",
        "x_test_sc = sc.transform(x_test)"
      ],
      "execution_count": 18,
      "outputs": []
    },
    {
      "cell_type": "code",
      "metadata": {
        "id": "RLz0vp-vvR-h"
      },
      "source": [
        "from sklearn.decomposition import PCA\n",
        "pca=PCA(n_components=2)\n",
        "X_train_pca = pca.fit_transform(x_train_sc)\n",
        "X_test_pca = pca.transform(x_test_sc)"
      ],
      "execution_count": 20,
      "outputs": []
    },
    {
      "cell_type": "code",
      "metadata": {
        "colab": {
          "base_uri": "https://localhost:8080/"
        },
        "id": "N6nOM8mtvH-l",
        "outputId": "77439351-9084-465c-de2e-b8b887ff62a2"
      },
      "source": [
        "X_train_pca"
      ],
      "execution_count": 21,
      "outputs": [
        {
          "output_type": "execute_result",
          "data": {
            "text/plain": [
              "array([[ 1.27228206e+00,  3.57878727e-01],\n",
              "       [ 1.52231770e-01, -2.99835283e-01],\n",
              "       [-2.18764183e+00,  6.17154256e-01],\n",
              "       [ 9.41913396e-01,  1.21810481e-02],\n",
              "       [ 1.76227837e+00, -2.71066387e-01],\n",
              "       [-8.16806401e-02, -1.04319475e+00],\n",
              "       [-1.89794863e+00,  1.48464927e+00],\n",
              "       [ 9.59395493e-01, -6.91087802e-01],\n",
              "       [ 3.65661204e-01, -9.13013087e-02],\n",
              "       [ 2.31845912e-01, -1.01891237e+00],\n",
              "       [ 1.79730127e+00,  3.25092688e-01],\n",
              "       [-2.40350676e+00, -2.44874760e-01],\n",
              "       [ 1.82199968e+00,  5.93295049e-01],\n",
              "       [-1.98427118e+00,  5.55515137e-01],\n",
              "       [-2.17073306e+00,  1.13527621e+00],\n",
              "       [-2.55598076e-01, -2.67039928e+00],\n",
              "       [ 1.38862320e+00,  1.82768524e-01],\n",
              "       [ 1.93409268e+00,  9.57133382e-01],\n",
              "       [ 1.12243099e+00, -1.78242941e+00],\n",
              "       [ 1.88169499e+00, -8.17365689e-01],\n",
              "       [ 5.43123767e-02, -1.32586239e+00],\n",
              "       [ 2.70365641e+00,  7.16489102e-01],\n",
              "       [ 6.91516012e-01,  7.35561284e-01],\n",
              "       [ 1.30048660e-02, -1.58537102e+00],\n",
              "       [ 1.22853905e+00, -5.55124947e-01],\n",
              "       [ 1.01881714e+00, -3.53542050e-01],\n",
              "       [ 2.57616370e-01, -1.58420817e+00],\n",
              "       [ 1.44310720e+00, -9.83382473e-01],\n",
              "       [ 1.03458720e+00,  8.01371405e-01],\n",
              "       [ 1.43772035e+00,  1.92357562e-01],\n",
              "       [ 3.84673096e-01,  8.25825403e-01],\n",
              "       [-2.18860624e+00, -4.18642000e-01],\n",
              "       [ 1.05608476e+00, -7.58640575e-01],\n",
              "       [ 1.92641524e-01, -8.79416243e-01],\n",
              "       [-1.12363985e-01, -4.47930988e-01],\n",
              "       [ 1.72424265e-01, -1.35645812e+00],\n",
              "       [ 5.48040969e-01, -1.10259170e-02],\n",
              "       [ 1.88178641e+00,  9.13005688e-01],\n",
              "       [-2.23313082e+00,  1.09330082e+00],\n",
              "       [-2.68474557e+00, -8.53308800e-01],\n",
              "       [ 1.49617758e+00, -5.05892942e-01],\n",
              "       [ 1.93808918e-02, -1.91650085e-01],\n",
              "       [-1.94319667e+00,  4.84914749e-01],\n",
              "       [-2.21348689e+00,  2.79173351e+00],\n",
              "       [ 1.16566733e+00,  5.48671737e-01],\n",
              "       [-2.34625489e+00, -5.03040429e-01],\n",
              "       [ 8.82824123e-01, -7.08744182e-02],\n",
              "       [-5.53354567e-01, -1.53976821e+00],\n",
              "       [-2.46710989e+00,  1.53234687e-01],\n",
              "       [ 1.08296089e+00, -1.70071690e+00],\n",
              "       [ 2.21566386e+00,  1.82005771e+00],\n",
              "       [ 1.47152532e-01, -4.03269675e-01],\n",
              "       [-2.27419738e+00, -6.42088899e-01],\n",
              "       [ 2.11590706e+00,  4.52809468e-01],\n",
              "       [ 1.96517506e+00,  8.13066565e-01],\n",
              "       [ 1.78249563e+00,  2.05975489e-01],\n",
              "       [ 1.68845011e+00, -2.76532388e-01],\n",
              "       [-2.37901660e+00,  1.22688329e+00],\n",
              "       [-2.35043637e+00,  2.32614770e-01],\n",
              "       [ 1.29698047e+00,  6.26081088e-01],\n",
              "       [ 1.63877963e+00,  9.35269379e-01],\n",
              "       [-1.96898362e+00, -2.27712985e+00],\n",
              "       [ 1.32194459e+00,  9.52067070e-01],\n",
              "       [-2.13797135e+00, -5.94647511e-01],\n",
              "       [ 1.14254888e+00, -1.22976880e+00],\n",
              "       [ 1.77290253e+00,  5.83706011e-01],\n",
              "       [-2.59070005e+00, -3.70800923e-01],\n",
              "       [-2.39923386e+00,  7.49841417e-01],\n",
              "       [ 1.77631039e+00,  4.67007198e-01],\n",
              "       [-2.20906445e+00,  5.80197215e-01],\n",
              "       [-2.48281329e+00, -8.04972103e-01],\n",
              "       [-2.06525704e+00,  1.58127470e+00],\n",
              "       [ 2.80311020e-01, -1.79062930e+00],\n",
              "       [ 1.96848355e+00,  7.71986487e-01],\n",
              "       [ 2.65786776e+00,  6.65819985e-01],\n",
              "       [-2.28289272e+00,  5.74731214e-01],\n",
              "       [-2.23288987e+00, -3.82580267e-01],\n",
              "       [-2.16655158e+00,  3.99621011e-01],\n",
              "       [ 2.99655286e-01, -6.19012302e-01],\n",
              "       [ 7.94323529e-01,  1.97955712e-01],\n",
              "       [-2.24916660e+00, -1.19396252e-01],\n",
              "       [-1.85496180e+00,  1.58300998e-01],\n",
              "       [ 6.16789994e-01, -1.08994308e-01],\n",
              "       [-1.86124640e+00,  4.94951442e-01],\n",
              "       [ 3.18225493e+00, -1.48272024e-01],\n",
              "       [-5.99475599e-01, -1.84492762e+00],\n",
              "       [ 2.27397951e+00,  2.52206956e+00],\n",
              "       [ 8.02777914e-01,  4.57016689e-01],\n",
              "       [-2.58513035e+00,  1.91420180e+00],\n",
              "       [ 8.46662508e-01, -3.02419937e-02],\n",
              "       [-2.18153152e+00,  1.95309157e+00],\n",
              "       [ 2.78717714e+00,  2.68605846e-01],\n",
              "       [-2.33804146e+00,  1.23190164e+00],\n",
              "       [-2.30494738e+00, -2.43531797e-01],\n",
              "       [ 2.32903683e+00,  1.34527758e-01],\n",
              "       [-2.23740372e+00,  9.85846464e-02],\n",
              "       [ 1.52387687e+00,  1.00040377e+00],\n",
              "       [ 1.68242783e-01, -6.20802919e-01],\n",
              "       [ 1.45049409e-01, -8.02274431e-01],\n",
              "       [-1.42474004e-01, -1.07405803e+00],\n",
              "       [ 1.52177374e+00,  6.01399011e-01],\n",
              "       [ 1.78400066e+00,  2.92706339e-01],\n",
              "       [ 1.11494102e+00, -1.00569413e+00],\n",
              "       [ 1.27532483e+00,  2.59015027e-01],\n",
              "       [-2.00986734e+00, -5.51776815e-01],\n",
              "       [-9.36765222e-02, -1.59128467e+00],\n",
              "       [ 1.93529805e+00,  5.17048547e-01],\n",
              "       [ 1.05608476e+00, -7.58640575e-01],\n",
              "       [-2.19609621e+00,  3.58093278e-01],\n",
              "       [ 8.40144896e-01, -2.37005702e-02],\n",
              "       [-2.04173388e-03, -2.28607127e-01],\n",
              "       [ 6.76377991e-01,  3.61953799e-01],\n",
              "       [ 9.10905621e-01, -1.45303558e+00],\n",
              "       [-2.06615479e+00,  7.42185110e-01],\n",
              "       [-2.21026982e+00,  1.02028205e+00],\n",
              "       [-2.23288987e+00, -3.82580267e-01],\n",
              "       [ 1.35062418e+00, -1.17820187e-01],\n",
              "       [ 6.30991357e-02, -8.12311123e-01],\n",
              "       [ 2.39539989e+00,  2.45039375e+00],\n",
              "       [-2.43305139e+00, -2.86402494e-01]])"
            ]
          },
          "metadata": {},
          "execution_count": 21
        }
      ]
    },
    {
      "cell_type": "code",
      "metadata": {
        "id": "9W6QdhZtu-VI"
      },
      "source": [
        "data=pd.DataFrame({'x_train_pca0':X_train_pca[:,0],'x_train_pca1':X_train_pca[:,1],'Species':y_train})"
      ],
      "execution_count": 24,
      "outputs": []
    },
    {
      "cell_type": "code",
      "metadata": {
        "colab": {
          "base_uri": "https://localhost:8080/",
          "height": 422
        },
        "id": "S1ztYXkqw3A9",
        "outputId": "a69812d2-b665-4d3d-deb2-42ab399064cf"
      },
      "source": [
        "data"
      ],
      "execution_count": 25,
      "outputs": [
        {
          "output_type": "execute_result",
          "data": {
            "text/html": [
              "<div>\n",
              "<style scoped>\n",
              "    .dataframe tbody tr th:only-of-type {\n",
              "        vertical-align: middle;\n",
              "    }\n",
              "\n",
              "    .dataframe tbody tr th {\n",
              "        vertical-align: top;\n",
              "    }\n",
              "\n",
              "    .dataframe thead th {\n",
              "        text-align: right;\n",
              "    }\n",
              "</style>\n",
              "<table border=\"1\" class=\"dataframe\">\n",
              "  <thead>\n",
              "    <tr style=\"text-align: right;\">\n",
              "      <th></th>\n",
              "      <th>x_train_pca0</th>\n",
              "      <th>x_train_pca1</th>\n",
              "      <th>Species</th>\n",
              "    </tr>\n",
              "  </thead>\n",
              "  <tbody>\n",
              "    <tr>\n",
              "      <th>137</th>\n",
              "      <td>1.272282</td>\n",
              "      <td>0.357879</td>\n",
              "      <td>Iris-virginica</td>\n",
              "    </tr>\n",
              "    <tr>\n",
              "      <th>84</th>\n",
              "      <td>0.152232</td>\n",
              "      <td>-0.299835</td>\n",
              "      <td>Iris-versicolor</td>\n",
              "    </tr>\n",
              "    <tr>\n",
              "      <th>27</th>\n",
              "      <td>-2.187642</td>\n",
              "      <td>0.617154</td>\n",
              "      <td>Iris-setosa</td>\n",
              "    </tr>\n",
              "    <tr>\n",
              "      <th>127</th>\n",
              "      <td>0.941913</td>\n",
              "      <td>0.012181</td>\n",
              "      <td>Iris-virginica</td>\n",
              "    </tr>\n",
              "    <tr>\n",
              "      <th>132</th>\n",
              "      <td>1.762278</td>\n",
              "      <td>-0.271066</td>\n",
              "      <td>Iris-virginica</td>\n",
              "    </tr>\n",
              "    <tr>\n",
              "      <th>...</th>\n",
              "      <td>...</td>\n",
              "      <td>...</td>\n",
              "      <td>...</td>\n",
              "    </tr>\n",
              "    <tr>\n",
              "      <th>9</th>\n",
              "      <td>-2.232890</td>\n",
              "      <td>-0.382580</td>\n",
              "      <td>Iris-setosa</td>\n",
              "    </tr>\n",
              "    <tr>\n",
              "      <th>103</th>\n",
              "      <td>1.350624</td>\n",
              "      <td>-0.117820</td>\n",
              "      <td>Iris-virginica</td>\n",
              "    </tr>\n",
              "    <tr>\n",
              "      <th>67</th>\n",
              "      <td>0.063099</td>\n",
              "      <td>-0.812311</td>\n",
              "      <td>Iris-versicolor</td>\n",
              "    </tr>\n",
              "    <tr>\n",
              "      <th>117</th>\n",
              "      <td>2.395400</td>\n",
              "      <td>2.450394</td>\n",
              "      <td>Iris-virginica</td>\n",
              "    </tr>\n",
              "    <tr>\n",
              "      <th>47</th>\n",
              "      <td>-2.433051</td>\n",
              "      <td>-0.286402</td>\n",
              "      <td>Iris-setosa</td>\n",
              "    </tr>\n",
              "  </tbody>\n",
              "</table>\n",
              "<p>120 rows × 3 columns</p>\n",
              "</div>"
            ],
            "text/plain": [
              "     x_train_pca0  x_train_pca1          Species\n",
              "137      1.272282      0.357879   Iris-virginica\n",
              "84       0.152232     -0.299835  Iris-versicolor\n",
              "27      -2.187642      0.617154      Iris-setosa\n",
              "127      0.941913      0.012181   Iris-virginica\n",
              "132      1.762278     -0.271066   Iris-virginica\n",
              "..            ...           ...              ...\n",
              "9       -2.232890     -0.382580      Iris-setosa\n",
              "103      1.350624     -0.117820   Iris-virginica\n",
              "67       0.063099     -0.812311  Iris-versicolor\n",
              "117      2.395400      2.450394   Iris-virginica\n",
              "47      -2.433051     -0.286402      Iris-setosa\n",
              "\n",
              "[120 rows x 3 columns]"
            ]
          },
          "metadata": {},
          "execution_count": 25
        }
      ]
    },
    {
      "cell_type": "code",
      "metadata": {
        "colab": {
          "base_uri": "https://localhost:8080/",
          "height": 422
        },
        "id": "euFmufcKw3uB",
        "outputId": "774277bb-99f5-4924-b905-53f66f33375b"
      },
      "source": [
        "data"
      ],
      "execution_count": 26,
      "outputs": [
        {
          "output_type": "execute_result",
          "data": {
            "text/html": [
              "<div>\n",
              "<style scoped>\n",
              "    .dataframe tbody tr th:only-of-type {\n",
              "        vertical-align: middle;\n",
              "    }\n",
              "\n",
              "    .dataframe tbody tr th {\n",
              "        vertical-align: top;\n",
              "    }\n",
              "\n",
              "    .dataframe thead th {\n",
              "        text-align: right;\n",
              "    }\n",
              "</style>\n",
              "<table border=\"1\" class=\"dataframe\">\n",
              "  <thead>\n",
              "    <tr style=\"text-align: right;\">\n",
              "      <th></th>\n",
              "      <th>x_train_pca0</th>\n",
              "      <th>x_train_pca1</th>\n",
              "      <th>Species</th>\n",
              "    </tr>\n",
              "  </thead>\n",
              "  <tbody>\n",
              "    <tr>\n",
              "      <th>137</th>\n",
              "      <td>1.272282</td>\n",
              "      <td>0.357879</td>\n",
              "      <td>Iris-virginica</td>\n",
              "    </tr>\n",
              "    <tr>\n",
              "      <th>84</th>\n",
              "      <td>0.152232</td>\n",
              "      <td>-0.299835</td>\n",
              "      <td>Iris-versicolor</td>\n",
              "    </tr>\n",
              "    <tr>\n",
              "      <th>27</th>\n",
              "      <td>-2.187642</td>\n",
              "      <td>0.617154</td>\n",
              "      <td>Iris-setosa</td>\n",
              "    </tr>\n",
              "    <tr>\n",
              "      <th>127</th>\n",
              "      <td>0.941913</td>\n",
              "      <td>0.012181</td>\n",
              "      <td>Iris-virginica</td>\n",
              "    </tr>\n",
              "    <tr>\n",
              "      <th>132</th>\n",
              "      <td>1.762278</td>\n",
              "      <td>-0.271066</td>\n",
              "      <td>Iris-virginica</td>\n",
              "    </tr>\n",
              "    <tr>\n",
              "      <th>...</th>\n",
              "      <td>...</td>\n",
              "      <td>...</td>\n",
              "      <td>...</td>\n",
              "    </tr>\n",
              "    <tr>\n",
              "      <th>9</th>\n",
              "      <td>-2.232890</td>\n",
              "      <td>-0.382580</td>\n",
              "      <td>Iris-setosa</td>\n",
              "    </tr>\n",
              "    <tr>\n",
              "      <th>103</th>\n",
              "      <td>1.350624</td>\n",
              "      <td>-0.117820</td>\n",
              "      <td>Iris-virginica</td>\n",
              "    </tr>\n",
              "    <tr>\n",
              "      <th>67</th>\n",
              "      <td>0.063099</td>\n",
              "      <td>-0.812311</td>\n",
              "      <td>Iris-versicolor</td>\n",
              "    </tr>\n",
              "    <tr>\n",
              "      <th>117</th>\n",
              "      <td>2.395400</td>\n",
              "      <td>2.450394</td>\n",
              "      <td>Iris-virginica</td>\n",
              "    </tr>\n",
              "    <tr>\n",
              "      <th>47</th>\n",
              "      <td>-2.433051</td>\n",
              "      <td>-0.286402</td>\n",
              "      <td>Iris-setosa</td>\n",
              "    </tr>\n",
              "  </tbody>\n",
              "</table>\n",
              "<p>120 rows × 3 columns</p>\n",
              "</div>"
            ],
            "text/plain": [
              "     x_train_pca0  x_train_pca1          Species\n",
              "137      1.272282      0.357879   Iris-virginica\n",
              "84       0.152232     -0.299835  Iris-versicolor\n",
              "27      -2.187642      0.617154      Iris-setosa\n",
              "127      0.941913      0.012181   Iris-virginica\n",
              "132      1.762278     -0.271066   Iris-virginica\n",
              "..            ...           ...              ...\n",
              "9       -2.232890     -0.382580      Iris-setosa\n",
              "103      1.350624     -0.117820   Iris-virginica\n",
              "67       0.063099     -0.812311  Iris-versicolor\n",
              "117      2.395400      2.450394   Iris-virginica\n",
              "47      -2.433051     -0.286402      Iris-setosa\n",
              "\n",
              "[120 rows x 3 columns]"
            ]
          },
          "metadata": {},
          "execution_count": 26
        }
      ]
    },
    {
      "cell_type": "code",
      "metadata": {
        "colab": {
          "base_uri": "https://localhost:8080/",
          "height": 356
        },
        "id": "hI0LAbcxxWxU",
        "outputId": "a586bc0f-ea63-48a4-ffda-0b52538bc0bc"
      },
      "source": [
        "sns.scatterplot( data['x_train_pca0'], data['x_train_pca1'],hue=data['Species'])"
      ],
      "execution_count": 33,
      "outputs": [
        {
          "output_type": "stream",
          "name": "stderr",
          "text": [
            "/usr/local/lib/python3.7/dist-packages/seaborn/_decorators.py:43: FutureWarning: Pass the following variables as keyword args: x, y. From version 0.12, the only valid positional argument will be `data`, and passing other arguments without an explicit keyword will result in an error or misinterpretation.\n",
            "  FutureWarning\n"
          ]
        },
        {
          "output_type": "execute_result",
          "data": {
            "text/plain": [
              "<matplotlib.axes._subplots.AxesSubplot at 0x7f39e79c5850>"
            ]
          },
          "metadata": {},
          "execution_count": 33
        },
        {
          "output_type": "display_data",
          "data": {
            "image/png": "[encoded data removed]",
            "text/plain": [
              "<Figure size 432x288 with 1 Axes>"
            ]
          },
          "metadata": {
            "needs_background": "light"
          }
        }
      ]
    }
  ]
}